{
 "metadata": {
  "name": "",
  "signature": "sha256:48bb4944a74e1d852d1d71598d2f78c2e7308126da0a12efe26ee469c441fd25"
 },
 "nbformat": 3,
 "nbformat_minor": 0,
 "worksheets": [
  {
   "cells": [
    {
     "cell_type": "heading",
     "level": 1,
     "metadata": {},
     "source": [
      "Basic Operations"
     ]
    },
    {
     "cell_type": "markdown",
     "metadata": {},
     "source": [
      "Boilerplate to make the doctester work.  Run this cell first."
     ]
    },
    {
     "cell_type": "code",
     "collapsed": false,
     "input": [
      "import sys\n",
      "import os\n",
      "sys.path.insert(1, os.path.join(os.path.pardir, \"ipython_doctester\"))\n",
      "from sympy import *\n",
      "#from ipython_doctester import test"
     ],
     "language": "python",
     "metadata": {},
     "outputs": [],
     "prompt_number": 2
    },
    {
     "cell_type": "markdown",
     "metadata": {},
     "source": [
      "For each exercise, fill in the function according to its docstring. Execute the cell to see if you did it right. "
     ]
    },
    {
     "cell_type": "heading",
     "level": 2,
     "metadata": {},
     "source": [
      "Substitution"
     ]
    },
    {
     "cell_type": "markdown",
     "metadata": {},
     "source": [
      "Write a function that takes a list of expressions, a variable, and a point, and evaluates each expression in the list at that point."
     ]
    },
    {
     "cell_type": "code",
     "collapsed": false,
     "input": [
      "#@test\n",
      "def evaluate(exprs, x, x0):\n",
      "    \"\"\"\n",
      "    Evaluate each expression in exprs at the point x = x0.\n",
      "\n",
      "    >>> x, y = symbols('x y')\n",
      "    >>> exprs = [x**2, cos(x), x*y]\n",
      "    >>> evaluate(exprs, x, 1)\n",
      "    [1, cos(1), y]\n",
      "    >>> evaluate(exprs, y, 0)\n",
      "    [x**2, cos(x), 0]\n",
      "    \"\"\"\n",
      "    return [expr.subs(x, x0) for expr in exprs]\n",
      "x, y = symbols('x y')\n",
      "exprs = [x**2, cos(x), x*y]\n",
      "evaluate(exprs, x, 1)\n"
     ],
     "language": "python",
     "metadata": {},
     "outputs": [
      {
       "metadata": {},
       "output_type": "pyout",
       "prompt_number": 3,
       "text": [
        "[1, cos(1), y]"
       ]
      }
     ],
     "prompt_number": 3
    },
    {
     "cell_type": "markdown",
     "metadata": {},
     "source": [
      "Write a function that computes \n",
      "\n",
      "$$\n",
      "{\\underbrace{x^{{}^{.^{.^{.^x}}}}}_\\text{n copies of x}}\n",
      "$$\n",
      "\n",
      "That is, `x**(x**(...x))`, with `n` copies of `x`.  In [Knuth up-arrow notation](http://en.wikipedia.org/wiki/Up_arrow_notation), $x\\uparrow\\uparrow n$."
     ]
    },
    {
     "cell_type": "code",
     "collapsed": false,
     "input": [
      "#@test\n",
      "def uparrow(x, n):\n",
      "    \"\"\"\n",
      "    Computes x**(x**(...x)), with n copies of x.\n",
      "\n",
      "    >>> x = symbols('x')\n",
      "    >>> uparrow(x, 3)\n",
      "    x**(x**x)\n",
      "    >>> uparrow(x, 1)\n",
      "    x\n",
      "    >>> uparrow(x**x, 3)\n",
      "    (x**x)**((x**x)**(x**x))\n",
      "    \"\"\"\n",
      "    expr = x\n",
      "    for i in range(n - 1):\n",
      "        expr = x**expr\n",
      "    return expr\n",
      "x=symbols('x')\n",
      "#uparrow(x, 3)\n",
      "#uparrow(x, 1)\n",
      "uparrow(x**x, 3)"
     ],
     "language": "python",
     "metadata": {},
     "outputs": [
      {
       "metadata": {},
       "output_type": "pyout",
       "prompt_number": 4,
       "text": [
        "(x**x)**((x**x)**(x**x))"
       ]
      }
     ],
     "prompt_number": 4
    },
    {
     "cell_type": "markdown",
     "metadata": {},
     "source": [
      "Write a function that takes a function and nests it within itself n times. \n",
      "\n",
      "For example, if we started with $x^x$, and $n=3$, we would end up with \n",
      "\n",
      "$$\\left(\\left(x^{x}\\right)^{\\left(x^{x}\\right)}\\right)^\\left({\\left(x^{x}\\right)^{\\left(x^{x}\\right)}}\\right)$$"
     ]
    },
    {
     "cell_type": "code",
     "collapsed": false,
     "input": [
      "#@test\n",
      "def nest(expr, x, n):\n",
      "    \"\"\"\n",
      "    Nests expr into itself (in the variable x) n times.\n",
      "\n",
      "    >>> x, y = symbols('x y')\n",
      "    >>> nest(x**x, x, 3)\n",
      "    ((x**x)**(x**x))**((x**x)**(x**x))\n",
      "    >>> nest(sin(x)*cos(y), x, 2)\n",
      "    sin(sin(x)*cos(y))*cos(y)\n",
      "    >>> nest(sin(x)*cos(y), y, 2)\n",
      "    sin(x)*cos(sin(x)*cos(y))\n",
      "    >>> nest(x**2, x, 1)\n",
      "    x**2\n",
      "    \"\"\"\n",
      "    expr1 = expr\n",
      "    for i in range(n - 1):\n",
      "        expr = expr.subs(x, expr1)\n",
      "    return expr\n",
      "x, y = symbols('x y')\n",
      "#nest(x**x, x, 3)\n",
      "#nest(sin(x)*cos(y), x, 2)\n",
      "nest(sin(x)*cos(y), y, 2)\n"
     ],
     "language": "python",
     "metadata": {},
     "outputs": [
      {
       "metadata": {},
       "output_type": "pyout",
       "prompt_number": 5,
       "text": [
        "sin(x)*cos(sin(x)*cos(y))"
       ]
      }
     ],
     "prompt_number": 5
    },
    {
     "cell_type": "markdown",
     "metadata": {},
     "source": [
      "Write a function that replaces all trig functions in terms of $\\sin(x)$ and $\\cos(x)$. You can assume that the trig function will be of the form $t(x)$, where $x$ is the variable.  The trig functions implemented in SymPy are\n",
      "\n",
      "$$\\tan(x) = \\frac{\\sin(x)}{\\cos(x)}$$\n",
      "$$\\cot(x) = \\frac{\\cos(x)}{\\sin(x)}$$\n",
      "$$\\sec(x) = \\frac{1}{\\cos(x)}$$\n",
      "$$\\csc(x) = \\frac{1}{\\sin(x)}$$\n"
     ]
    },
    {
     "cell_type": "code",
     "collapsed": false,
     "input": [
      "#@test\n",
      "def trig_rewrite(expr, x):\n",
      "    \"\"\"\n",
      "    Rewrite all trig functions t(x) in terms of sin(x) and cos(x)\n",
      "\n",
      "    >>> x, y = symbols('x y')\n",
      "    >>> trig_rewrite(tan(x), x)\n",
      "    sin(x)/cos(x)\n",
      "    >>> trig_rewrite(tan(x) + cos(x)*sec(x), x)\n",
      "    sin(x)/cos(x) + 1\n",
      "    >>> trig_rewrite(cot(x) + sin(x)*csc(x), x)\n",
      "    1 + cos(x)/sin(x)\n",
      "    >>> trig_rewrite(tan(x)*tan(y), x)\n",
      "    sin(x)*tan(y)/cos(x)\n",
      "    >>> trig_rewrite(tan(x)*tan(y), y)\n",
      "    sin(y)*tan(x)/cos(y)\n",
      "    \"\"\"\n",
      "    return expr.subs([(tan(x), sin(x)/cos(x)), (sec(x), 1/cos(x)), (csc(x), 1/sin(x)), (cot(x), cos(x)/sin(x))])\n",
      "x, y = symbols('x y')\n",
      "#trig_rewrite(tan(x), x)\n",
      "#trig_rewrite(tan(x) + cos(x)*sec(x), x)\n",
      "#trig_rewrite(cot(x) + sin(x)*csc(x), x)\n",
      "#trig_rewrite(tan(x)*tan(y), x)\n",
      "trig_rewrite(tan(x)*tan(y), y)"
     ],
     "language": "python",
     "metadata": {},
     "outputs": [
      {
       "metadata": {},
       "output_type": "pyout",
       "prompt_number": 6,
       "text": [
        "sin(y)*tan(x)/cos(y)"
       ]
      }
     ],
     "prompt_number": 6
    },
    {
     "cell_type": "markdown",
     "metadata": {},
     "source": [
      "Suppose we are working with the series expansion of a function at $x=0$, like $a_0 + a_1x + a_2x^2 + \\cdots$.  In this expansion, the terms with higher powers are less significant to the calculation.  For example, if we had\n",
      "\n",
      "$$1 + x + \\frac{x^{2}}{2} + \\frac{x^{3}}{6} + \\frac{x^{4}}{24} + \\frac{x^{5}}{120} + \\frac{x^{6}}{720} + \\frac{x^{7}}{5040} + \\frac{x^{8}}{40320} + \\frac{x^{9}}{362880}$$\n",
      "\n",
      "We might only care about the terms with powers less than 5\n",
      "\n",
      "$$1 + x + \\frac{x^{2}}{2} + \\frac{x^{3}}{6} + \\frac{x^{4}}{24}$$\n",
      "\n",
      "We will see later that this is can be done automatically using the `O` class, but it can also be done using `subs`."
     ]
    },
    {
     "cell_type": "code",
     "collapsed": false,
     "input": [
      "#@test\n",
      "def series_reduce(expr, x, p):\n",
      "    \"\"\"\n",
      "    Remove all powers of x in expr with power greater than p.\n",
      "\n",
      "    You may assume that there are no powers of x greater than 10.\n",
      "\n",
      "    Bonus: which functions are represented by the series expansions below (you\n",
      "    can use expr.series(x, 0, 10) to check if you are right)?\n",
      "\n",
      "    >>> x, y = symbols('x y')\n",
      "    >>> series_reduce(1 - x**2/2 + x**4/24 - x**6/720 + x**8/40320, x, 5)\n",
      "    x**4/24 - x**2/2 + 1\n",
      "    >>> series_reduce(1 + x + x**2 + x**3 + x**4 + x**5 + x**6 + x**7 + x**8 + x**9 + x**10, x, 0)\n",
      "    1\n",
      "    >>> series_reduce(x*y + x**3*y**3/3 + 2*x**5*y**5/15 + 17*x**7*y**7/315 + 62*x**9*y**9/2835, x, 5)\n",
      "    2*x**5*y**5/15 + x**3*y**3/3 + x*y\n",
      "    \"\"\"\n",
      "    return expr.subs([(x**i, 0) for i in range(11) if  i > p])\n",
      "x, y = symbols('x y')\n",
      "#series_reduce(1 - x**2/2 + x**4/24 - x**6/720 + x**8/40320, x, 5)\n",
      "#series_reduce(1 + x + x**2 + x**3 + x**4 + x**5 + x**6 + x**7 + x**8 + x**9 + x**10, x, 0)\n",
      "series_reduce(x*y + x**3*y**3/3 + 2*x**5*y**5/15 + 17*x**7*y**7/315 + 62*x**9*y**9/2835, x, 5)\n"
     ],
     "language": "python",
     "metadata": {},
     "outputs": [
      {
       "metadata": {},
       "output_type": "pyout",
       "prompt_number": 7,
       "text": [
        "2*x**5*y**5/15 + x**3*y**3/3 + x*y"
       ]
      }
     ],
     "prompt_number": 7
    },
    {
     "cell_type": "heading",
     "level": 2,
     "metadata": {},
     "source": [
      "Evalf"
     ]
    },
    {
     "cell_type": "markdown",
     "metadata": {},
     "source": [
      "At the 763rd place in the decimal expansion of $\\pi$, there is `999999` (see the below comic ref: http://www.qwantz.com/index.php?comic=1013).  Note T-Rex's counting is off if you count the digits like\n",
      "\n",
      "\n",
      "       pi: 3 . 1 4 1 5 9\n",
      " \n",
      "    digit: 1   2 3 4 5 6\n"
     ]
    },
    {
     "cell_type": "code",
     "collapsed": false,
     "input": [
      "from IPython.core.display import Image \n",
      "Image(filename='../imgs/comic2-1040.png') "
     ],
     "language": "python",
     "metadata": {},
     "outputs": [
      {
       "ename": "IOError",
       "evalue": "[Errno 2] No such file or directory: u'../imgs/comic2-1040.png'",
       "output_type": "pyerr",
       "traceback": [
        "\u001b[1;31m---------------------------------------------------------------------------\u001b[0m\n\u001b[1;31mIOError\u001b[0m                                   Traceback (most recent call last)",
        "\u001b[1;32m<ipython-input-9-a8252475f84b>\u001b[0m in \u001b[0;36m<module>\u001b[1;34m()\u001b[0m\n\u001b[0;32m      1\u001b[0m \u001b[1;32mfrom\u001b[0m \u001b[0mIPython\u001b[0m\u001b[1;33m.\u001b[0m\u001b[0mcore\u001b[0m\u001b[1;33m.\u001b[0m\u001b[0mdisplay\u001b[0m \u001b[1;32mimport\u001b[0m \u001b[0mImage\u001b[0m\u001b[1;33m\u001b[0m\u001b[0m\n\u001b[1;32m----> 2\u001b[1;33m \u001b[0mImage\u001b[0m\u001b[1;33m(\u001b[0m\u001b[0mfilename\u001b[0m\u001b[1;33m=\u001b[0m\u001b[1;34m'../imgs/comic2-1040.png'\u001b[0m\u001b[1;33m)\u001b[0m\u001b[1;33m\u001b[0m\u001b[0m\n\u001b[0m",
        "\u001b[1;32m/opt/anaconda/envs/np18py27-1.9/lib/python2.7/site-packages/IPython/core/display.pyc\u001b[0m in \u001b[0;36m__init__\u001b[1;34m(self, data, url, filename, format, embed, width, height, retina)\u001b[0m\n\u001b[0;32m    644\u001b[0m         \u001b[0mself\u001b[0m\u001b[1;33m.\u001b[0m\u001b[0mheight\u001b[0m \u001b[1;33m=\u001b[0m \u001b[0mheight\u001b[0m\u001b[1;33m\u001b[0m\u001b[0m\n\u001b[0;32m    645\u001b[0m         \u001b[0mself\u001b[0m\u001b[1;33m.\u001b[0m\u001b[0mretina\u001b[0m \u001b[1;33m=\u001b[0m \u001b[0mretina\u001b[0m\u001b[1;33m\u001b[0m\u001b[0m\n\u001b[1;32m--> 646\u001b[1;33m         \u001b[0msuper\u001b[0m\u001b[1;33m(\u001b[0m\u001b[0mImage\u001b[0m\u001b[1;33m,\u001b[0m \u001b[0mself\u001b[0m\u001b[1;33m)\u001b[0m\u001b[1;33m.\u001b[0m\u001b[0m__init__\u001b[0m\u001b[1;33m(\u001b[0m\u001b[0mdata\u001b[0m\u001b[1;33m=\u001b[0m\u001b[0mdata\u001b[0m\u001b[1;33m,\u001b[0m \u001b[0murl\u001b[0m\u001b[1;33m=\u001b[0m\u001b[0murl\u001b[0m\u001b[1;33m,\u001b[0m \u001b[0mfilename\u001b[0m\u001b[1;33m=\u001b[0m\u001b[0mfilename\u001b[0m\u001b[1;33m)\u001b[0m\u001b[1;33m\u001b[0m\u001b[0m\n\u001b[0m\u001b[0;32m    647\u001b[0m \u001b[1;33m\u001b[0m\u001b[0m\n\u001b[0;32m    648\u001b[0m         \u001b[1;32mif\u001b[0m \u001b[0mretina\u001b[0m\u001b[1;33m:\u001b[0m\u001b[1;33m\u001b[0m\u001b[0m\n",
        "\u001b[1;32m/opt/anaconda/envs/np18py27-1.9/lib/python2.7/site-packages/IPython/core/display.pyc\u001b[0m in \u001b[0;36m__init__\u001b[1;34m(self, data, url, filename)\u001b[0m\n\u001b[0;32m    334\u001b[0m         \u001b[0mself\u001b[0m\u001b[1;33m.\u001b[0m\u001b[0mfilename\u001b[0m \u001b[1;33m=\u001b[0m \u001b[0mNone\u001b[0m \u001b[1;32mif\u001b[0m \u001b[0mfilename\u001b[0m \u001b[1;32mis\u001b[0m \u001b[0mNone\u001b[0m \u001b[1;32melse\u001b[0m \u001b[0municode_type\u001b[0m\u001b[1;33m(\u001b[0m\u001b[0mfilename\u001b[0m\u001b[1;33m)\u001b[0m\u001b[1;33m\u001b[0m\u001b[0m\n\u001b[0;32m    335\u001b[0m \u001b[1;33m\u001b[0m\u001b[0m\n\u001b[1;32m--> 336\u001b[1;33m         \u001b[0mself\u001b[0m\u001b[1;33m.\u001b[0m\u001b[0mreload\u001b[0m\u001b[1;33m(\u001b[0m\u001b[1;33m)\u001b[0m\u001b[1;33m\u001b[0m\u001b[0m\n\u001b[0m\u001b[0;32m    337\u001b[0m         \u001b[0mself\u001b[0m\u001b[1;33m.\u001b[0m\u001b[0m_check_data\u001b[0m\u001b[1;33m(\u001b[0m\u001b[1;33m)\u001b[0m\u001b[1;33m\u001b[0m\u001b[0m\n\u001b[0;32m    338\u001b[0m \u001b[1;33m\u001b[0m\u001b[0m\n",
        "\u001b[1;32m/opt/anaconda/envs/np18py27-1.9/lib/python2.7/site-packages/IPython/core/display.pyc\u001b[0m in \u001b[0;36mreload\u001b[1;34m(self)\u001b[0m\n\u001b[0;32m    666\u001b[0m         \u001b[1;34m\"\"\"Reload the raw data from file or URL.\"\"\"\u001b[0m\u001b[1;33m\u001b[0m\u001b[0m\n\u001b[0;32m    667\u001b[0m         \u001b[1;32mif\u001b[0m \u001b[0mself\u001b[0m\u001b[1;33m.\u001b[0m\u001b[0membed\u001b[0m\u001b[1;33m:\u001b[0m\u001b[1;33m\u001b[0m\u001b[0m\n\u001b[1;32m--> 668\u001b[1;33m             \u001b[0msuper\u001b[0m\u001b[1;33m(\u001b[0m\u001b[0mImage\u001b[0m\u001b[1;33m,\u001b[0m\u001b[0mself\u001b[0m\u001b[1;33m)\u001b[0m\u001b[1;33m.\u001b[0m\u001b[0mreload\u001b[0m\u001b[1;33m(\u001b[0m\u001b[1;33m)\u001b[0m\u001b[1;33m\u001b[0m\u001b[0m\n\u001b[0m\u001b[0;32m    669\u001b[0m             \u001b[1;32mif\u001b[0m \u001b[0mself\u001b[0m\u001b[1;33m.\u001b[0m\u001b[0mretina\u001b[0m\u001b[1;33m:\u001b[0m\u001b[1;33m\u001b[0m\u001b[0m\n\u001b[0;32m    670\u001b[0m                 \u001b[0mself\u001b[0m\u001b[1;33m.\u001b[0m\u001b[0m_retina_shape\u001b[0m\u001b[1;33m(\u001b[0m\u001b[1;33m)\u001b[0m\u001b[1;33m\u001b[0m\u001b[0m\n",
        "\u001b[1;32m/opt/anaconda/envs/np18py27-1.9/lib/python2.7/site-packages/IPython/core/display.pyc\u001b[0m in \u001b[0;36mreload\u001b[1;34m(self)\u001b[0m\n\u001b[0;32m    344\u001b[0m         \u001b[1;34m\"\"\"Reload the raw data from file or URL.\"\"\"\u001b[0m\u001b[1;33m\u001b[0m\u001b[0m\n\u001b[0;32m    345\u001b[0m         \u001b[1;32mif\u001b[0m \u001b[0mself\u001b[0m\u001b[1;33m.\u001b[0m\u001b[0mfilename\u001b[0m \u001b[1;32mis\u001b[0m \u001b[1;32mnot\u001b[0m \u001b[0mNone\u001b[0m\u001b[1;33m:\u001b[0m\u001b[1;33m\u001b[0m\u001b[0m\n\u001b[1;32m--> 346\u001b[1;33m             \u001b[1;32mwith\u001b[0m \u001b[0mopen\u001b[0m\u001b[1;33m(\u001b[0m\u001b[0mself\u001b[0m\u001b[1;33m.\u001b[0m\u001b[0mfilename\u001b[0m\u001b[1;33m,\u001b[0m \u001b[0mself\u001b[0m\u001b[1;33m.\u001b[0m\u001b[0m_read_flags\u001b[0m\u001b[1;33m)\u001b[0m \u001b[1;32mas\u001b[0m \u001b[0mf\u001b[0m\u001b[1;33m:\u001b[0m\u001b[1;33m\u001b[0m\u001b[0m\n\u001b[0m\u001b[0;32m    347\u001b[0m                 \u001b[0mself\u001b[0m\u001b[1;33m.\u001b[0m\u001b[0mdata\u001b[0m \u001b[1;33m=\u001b[0m \u001b[0mf\u001b[0m\u001b[1;33m.\u001b[0m\u001b[0mread\u001b[0m\u001b[1;33m(\u001b[0m\u001b[1;33m)\u001b[0m\u001b[1;33m\u001b[0m\u001b[0m\n\u001b[0;32m    348\u001b[0m         \u001b[1;32melif\u001b[0m \u001b[0mself\u001b[0m\u001b[1;33m.\u001b[0m\u001b[0murl\u001b[0m \u001b[1;32mis\u001b[0m \u001b[1;32mnot\u001b[0m \u001b[0mNone\u001b[0m\u001b[1;33m:\u001b[0m\u001b[1;33m\u001b[0m\u001b[0m\n",
        "\u001b[1;31mIOError\u001b[0m: [Errno 2] No such file or directory: u'../imgs/comic2-1040.png'"
       ]
      }
     ],
     "prompt_number": 9
    },
    {
     "cell_type": "markdown",
     "metadata": {},
     "source": [
      "Write a function that takes a symbolic expression (like `pi`), and determines the first place where `999999` appears.  "
     ]
    },
    {
     "cell_type": "markdown",
     "metadata": {},
     "source": [
      "Tip: Use the string representation of the number. Python starts counting at 0, but the decimal point offsets this"
     ]
    },
    {
     "cell_type": "code",
     "collapsed": false,
     "input": [
      "str(1.2345).find('345')"
     ],
     "language": "python",
     "metadata": {},
     "outputs": [
      {
       "metadata": {},
       "output_type": "pyout",
       "prompt_number": 10,
       "text": [
        "3"
       ]
      }
     ],
     "prompt_number": 10
    },
    {
     "cell_type": "code",
     "collapsed": false,
     "input": [
      "#@test\n",
      "def find_999999(expr, limit=100000):\n",
      "    \"\"\"\n",
      "    Find the first place in the decimal expr where 999999 appears.\n",
      "\n",
      "    Only checks up to limit digits. \n",
      "\n",
      "    Returns False when 999999 does not appear.\n",
      "\n",
      "    >>> find_999999(pi)\n",
      "    763\n",
      "    >>> find_999999(E)\n",
      "    False\n",
      "    >>> find_999999(E, 1000000) # This one will take a few seconds to compute\n",
      "    384341\n",
      "    \"\"\"\n",
      "    found = str(expr.evalf(limit)).find('999999')\n",
      "    if found < 0:\n",
      "        return False\n",
      "    return found\n",
      "#find_999999(pi)\n",
      "#find_999999(E)\n",
      "find_999999(E, 1000000)"
     ],
     "language": "python",
     "metadata": {},
     "outputs": [
      {
       "metadata": {},
       "output_type": "pyout",
       "prompt_number": 12,
       "text": [
        "384341"
       ]
      }
     ],
     "prompt_number": 12
    },
    {
     "cell_type": "code",
     "collapsed": false,
     "input": [],
     "language": "python",
     "metadata": {},
     "outputs": []
    }
   ],
   "metadata": {}
  }
 ]
}