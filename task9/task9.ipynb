{
 "metadata": {
  "name": "",
  "signature": "sha256:0f34f9e2b1b21259fdb2dbf6526c5905692b3aaf56227458206397351ce67f22"
 },
 "nbformat": 3,
 "nbformat_minor": 0,
 "worksheets": [
  {
   "cells": [
    {
     "cell_type": "code",
     "collapsed": false,
     "input": [
      "import pandas as pd\n",
      "import numpy as np\n",
      "import statsmodels.api as sm\n",
      "import pylab as pl\n",
      "\n",
      "valD = pd.read_csv('validation_model_data.csv')\n",
      "trD = pd.read_csv('train_model_data.csv')"
     ],
     "language": "python",
     "metadata": {},
     "outputs": [],
     "prompt_number": 16
    },
    {
     "cell_type": "code",
     "collapsed": false,
     "input": [
      "trD = trD[['key', 'plays', 'pctmale', 'age', 'account_age', 'cluster']]\n",
      "trD = trD.dropna(how = 'any')"
     ],
     "language": "python",
     "metadata": {},
     "outputs": [],
     "prompt_number": 17
    },
    {
     "cell_type": "code",
     "collapsed": false,
     "input": [
      "cluster = trD['cluster']\n",
      "plays = trD['plays']\n",
      "age = trD['age']\n",
      "pctmale = trD['pctmale']\n",
      "acc_age = trD['account_age']"
     ],
     "language": "python",
     "metadata": {},
     "outputs": [],
     "prompt_number": 18
    },
    {
     "cell_type": "code",
     "collapsed": false,
     "input": [
      "y = np.matrix(plays).transpose()\n",
      "x1 = np.matrix(cluster).transpose()\n",
      "x2 = np.matrix(age).transpose()\n",
      "x3 = np.matrix(pctmale).transpose()\n",
      "x4 = np.matrix(acc_age).transpose()\n",
      "x = np.column_stack([x1, x2])\n",
      "X = sm.add_constant(x)\n",
      "model = sm.OLS(y, X)\n",
      "f = model.fit()\n",
      "print 'Coefficients: ', f.params[0:4]\n",
      "print 'Intercept: ', f.params[2]\n",
      "print 'P-Values: ', f.pvalues\n",
      "print 'R-Squared: ', f.rsquared"
     ],
     "language": "python",
     "metadata": {},
     "outputs": [
      {
       "output_type": "stream",
       "stream": "stdout",
       "text": [
        "Coefficients:  [ 138.03153725    1.25778168   -1.96734259]\n",
        "Intercept:  -1.96734259321\n",
        "P-Values:  [  0.00000000e+00   2.03454890e-60   6.55581369e-83]\n",
        "R-Squared:  0.00713450787654\n"
       ]
      }
     ],
     "prompt_number": 19
    },
    {
     "cell_type": "code",
     "collapsed": false,
     "input": [
      "trD = trD[['key', 'plays', 'pctmale', 'age', 'account_age', 'cluster']]\n",
      "trD = trD.dropna(how = 'any')\n",
      "cluster = trD['cluster']\n",
      "plays = trD['plays']\n",
      "age = trD['age']\n",
      "pctmale = trD['pctmale']\n",
      "acc_age = trD['account_age']\n",
      "y = np.matrix(plays).transpose()\n",
      "x1 = np.matrix(cluster).transpose()\n",
      "x2 = np.matrix(age).transpose()\n",
      "x3 = np.matrix(pctmale).transpose()\n",
      "x4 = np.matrix(acc_age).transpose()\n",
      "x = np.column_stack([x1, x2])\n",
      "X = sm.add_constant(x)\n",
      "model = sm.OLS(y, X)\n",
      "f = model.fit()\n",
      "print 'Coefficients: ', f.params[0:4]\n",
      "print 'Intercept: ', f.params[2]\n",
      "print 'P-Values: ', f.pvalues\n",
      "print 'R-Squared: ', f.rsquared"
     ],
     "language": "python",
     "metadata": {},
     "outputs": [
      {
       "output_type": "stream",
       "stream": "stdout",
       "text": [
        "Coefficients:  [ 138.03153725    1.25778168   -1.96734259]\n",
        "Intercept:  -1.96734259321\n",
        "P-Values:  [  0.00000000e+00   2.03454890e-60   6.55581369e-83]\n",
        "R-Squared:  0.00713450787654\n"
       ]
      }
     ],
     "prompt_number": 20
    },
    {
     "cell_type": "code",
     "collapsed": false,
     "input": [
      "trData = trD[['key', 'plays', 'pctmale', 'age', 'account_age', 'cluster']]\n",
      "trData = trD.dropna(how = 'any')\n",
      "cluster = trD['cluster']\n",
      "plays = trD['plays']\n",
      "age = trD['age']\n",
      "pctmale = trD['pctmale']\n",
      "acc_age = trD['account_age']\n",
      "y = np.matrix(plays).transpose()\n",
      "x1 = np.matrix(cluster).transpose()\n",
      "x2 = np.matrix(age).transpose()\n",
      "x3 = np.matrix(pctmale).transpose()\n",
      "x4 = np.matrix(acc_age).transpose()\n",
      "x = np.column_stack([x1, x2])\n",
      "X = sm.add_constant(x)\n",
      "model = sm.OLS(np.log(y), X)\n",
      "f = model.fit()\n",
      "print 'Coefficients: ', f.params[0:4]\n",
      "print 'Intercept: ', f.params[2]\n",
      "print 'P-Values: ', f.pvalues\n",
      "print 'R-Squared: ', f.rsquared"
     ],
     "language": "python",
     "metadata": {},
     "outputs": [
      {
       "output_type": "stream",
       "stream": "stdout",
       "text": [
        "Coefficients:  [ 4.49012604  0.00623934 -0.0134391 ]\n",
        "Intercept:  -0.0134391023508\n",
        "P-Values:  [  0.00000000e+000   2.86841299e-056   2.20582995e-144]\n",
        "R-Squared:  0.00998495161633\n"
       ]
      }
     ],
     "prompt_number": 21
    },
    {
     "cell_type": "code",
     "collapsed": false,
     "input": [],
     "language": "python",
     "metadata": {},
     "outputs": [],
     "prompt_number": 21
    },
    {
     "cell_type": "code",
     "collapsed": false,
     "input": [],
     "language": "python",
     "metadata": {},
     "outputs": []
    }
   ],
   "metadata": {}
  }
 ]
}